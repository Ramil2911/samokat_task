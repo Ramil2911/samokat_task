{
 "cells": [
  {
   "metadata": {},
   "cell_type": "markdown",
   "source": [
    "# Замеры скорости\n",
    "В этом файле производятся замеры скорости обучения и инференса иерархической и плоской моделей"
   ],
   "id": "3a591cb2618555ea"
  },
  {
   "metadata": {
    "ExecuteTime": {
     "end_time": "2024-08-11T21:51:14.890807Z",
     "start_time": "2024-08-11T21:51:14.637454Z"
    }
   },
   "cell_type": "code",
   "source": [
    "import pandas as pd\n",
    "\n",
    "df = pd.read_csv(\"data/train_40k.csv\").dropna(how='any')\n",
    "\n",
    "# Define a list with sentences (1k - 100k sentences)\n",
    "train_sentences = df['Text'].tolist()\n",
    "labels = df[['Cat1', 'Cat2', 'Cat3']].to_numpy()\n",
    "labels"
   ],
   "id": "a571d11bd44721f6",
   "outputs": [
    {
     "data": {
      "text/plain": [
       "array([['grocery gourmet food', 'meat poultry', 'jerky'],\n",
       "       ['toys games', 'games', 'unknown'],\n",
       "       ['toys games', 'games', 'unknown'],\n",
       "       ...,\n",
       "       ['beauty', 'tools accessories', 'mirrors'],\n",
       "       ['beauty', 'skin care', 'body'],\n",
       "       ['beauty', 'fragrance', 'women s']], dtype=object)"
      ]
     },
     "execution_count": 1,
     "metadata": {},
     "output_type": "execute_result"
    }
   ],
   "execution_count": 1
  },
  {
   "metadata": {},
   "cell_type": "markdown",
   "source": "~~Балансировка классов предлагает молиться~~. Согласно отчёту, в датасете 0.7% дубликатов, все одного класса",
   "id": "a4be742f5e573ae5"
  },
  {
   "metadata": {},
   "cell_type": "markdown",
   "source": "### Создание иерархии",
   "id": "8029f2bfc0dfe5c2"
  },
  {
   "metadata": {
    "ExecuteTime": {
     "end_time": "2024-08-11T21:51:15.773307Z",
     "start_time": "2024-08-11T21:51:14.892255Z"
    }
   },
   "cell_type": "code",
   "source": [
    "def create_hierarchy(df):\n",
    "    hierarchy = {}\n",
    "\n",
    "    # Iterate through each row in the DataFrame\n",
    "    for index, row in df.iterrows():\n",
    "        current_level = hierarchy  # Start from the root of the hierarchy\n",
    "\n",
    "        # Build the path based on the values in the current row\n",
    "        for col in df.columns:\n",
    "            label = row[col]\n",
    "            if pd.notna(label):  # Check if the label is not NaN\n",
    "                # If the label doesn't exist in the current level, add it\n",
    "                if label not in current_level:\n",
    "                    current_level[label] = {}\n",
    "                # Move down to the next level in the hierarchy\n",
    "                current_level = current_level[label]\n",
    "\n",
    "    return hierarchy\n",
    "\n",
    "hierarchy = {'root': create_hierarchy(df[['Cat1', 'Cat2', 'Cat3']])}"
   ],
   "id": "935de6c01df290f4",
   "outputs": [],
   "execution_count": 2
  },
  {
   "metadata": {},
   "cell_type": "markdown",
   "source": [
    " Обучение TF-IDF и иерархического классификатора\n",
    "Помимо TF-IDF на unlabeled текстах был дообучен DistilRoberta, но точность на эмбеддингах Bert и на TF-IDF не отличается"
   ],
   "id": "52fe3633d51dd480"
  },
  {
   "metadata": {
    "ExecuteTime": {
     "end_time": "2024-08-11T21:51:16.692635Z",
     "start_time": "2024-08-11T21:51:15.775847Z"
    }
   },
   "cell_type": "code",
   "source": [
    "pretrain_texts = pd.read_csv(\"data/unlabeled_150k.csv\").dropna(how='any')['Text'].tolist()\n",
    "tfidf_text = pretrain_texts + train_sentences"
   ],
   "id": "fac0c8ef25bfd3fd",
   "outputs": [],
   "execution_count": 3
  },
  {
   "metadata": {
    "ExecuteTime": {
     "end_time": "2024-08-11T21:51:23.426428Z",
     "start_time": "2024-08-11T21:51:16.693741Z"
    }
   },
   "cell_type": "code",
   "source": [
    "from sklearn.feature_extraction.text import TfidfVectorizer\n",
    "import time\n",
    "\n",
    "tfidf_vectorizer = TfidfVectorizer()\n",
    "tfidf_vectorizer.fit(tfidf_text)\n",
    "embeddings = tfidf_vectorizer.transform(train_sentences)"
   ],
   "id": "5c55ae13954a604b",
   "outputs": [],
   "execution_count": 4
  },
  {
   "metadata": {
    "ExecuteTime": {
     "end_time": "2024-08-11T21:52:25.350618Z",
     "start_time": "2024-08-11T21:51:23.427668Z"
    }
   },
   "cell_type": "code",
   "source": [
    "from model_serving.app.services.lib import TopDownClassifier\n",
    "from sklearn.tree import DecisionTreeClassifier\n",
    "\n",
    "base_classifier = DecisionTreeClassifier\n",
    "top_down_clf = TopDownClassifier(base_classifier, hierarchy)\n",
    "topdown_start_train_time = time.time()\n",
    "top_down_clf.fit(embeddings, labels)\n",
    "topdown_end_train_time = time.time()"
   ],
   "id": "67908cdfb206693b",
   "outputs": [],
   "execution_count": 5
  },
  {
   "metadata": {
    "ExecuteTime": {
     "end_time": "2024-08-11T21:52:25.406700Z",
     "start_time": "2024-08-11T21:52:25.352038Z"
    }
   },
   "cell_type": "code",
   "source": [
    "df = pd.read_csv(\"data/val_10k.csv\").dropna(how='any')\n",
    "\n",
    "test_sentences = df['Text'].tolist()\n",
    "test_labels = df[['Cat1', 'Cat2', 'Cat3']].to_numpy()"
   ],
   "id": "f6360da223126319",
   "outputs": [],
   "execution_count": 6
  },
  {
   "metadata": {
    "ExecuteTime": {
     "end_time": "2024-08-11T21:52:25.614348Z",
     "start_time": "2024-08-11T21:52:25.408349Z"
    }
   },
   "cell_type": "code",
   "source": "test_embeddings = tfidf_vectorizer.transform(test_sentences)",
   "id": "1b82cdca0fdea22a",
   "outputs": [],
   "execution_count": 7
  },
  {
   "metadata": {
    "ExecuteTime": {
     "end_time": "2024-08-11T21:52:30.930823Z",
     "start_time": "2024-08-11T21:52:25.615600Z"
    }
   },
   "cell_type": "code",
   "source": [
    "topdown_start_predict_time = time.time()\n",
    "top_down_clf.predict(test_embeddings)\n",
    "topdown_end_predict_time = time.time()"
   ],
   "id": "ede79a4c8f8d2de8",
   "outputs": [],
   "execution_count": 8
  },
  {
   "metadata": {},
   "cell_type": "markdown",
   "source": [
    "# Обучение плоского классификатора\n",
    "**В силу того, что плоская логрегрессия обучалась два часа, съела 20 Гб RAM и не показала никакого результата, дальше обучен DecisionTreeClassifier**"
   ],
   "id": "3e4eeaf6437946c7"
  },
  {
   "metadata": {
    "ExecuteTime": {
     "end_time": "2024-08-11T21:52:31.145201Z",
     "start_time": "2024-08-11T21:52:30.931960Z"
    }
   },
   "cell_type": "code",
   "source": [
    "import pandas as pd\n",
    "\n",
    "df = pd.read_csv(\"data/train_40k.csv\").dropna(how='any')\n",
    "train_sentences = df['Text'].tolist()\n",
    "train_labels = df[['Cat1', 'Cat2', 'Cat3']].to_numpy()\n",
    "train_labels = train_labels[:,0] + \"_\" + train_labels[:,1] + \"_\" + train_labels[:,2]"
   ],
   "id": "3f89e6593703890f",
   "outputs": [],
   "execution_count": 9
  },
  {
   "metadata": {
    "ExecuteTime": {
     "end_time": "2024-08-11T21:52:31.191008Z",
     "start_time": "2024-08-11T21:52:31.146571Z"
    }
   },
   "cell_type": "code",
   "source": [
    "df = pd.read_csv(\"data/val_10k.csv\").dropna(how='any')\n",
    "test_sentences = df['Text'].tolist()\n",
    "test_labels = df[['Cat1', 'Cat2', 'Cat3']].to_numpy()\n",
    "test_labels = test_labels[:,0] + \"_\" + test_labels[:,1] + \"_\" + test_labels[:,2]"
   ],
   "id": "101ae56d52fce185",
   "outputs": [],
   "execution_count": 10
  },
  {
   "metadata": {
    "ExecuteTime": {
     "end_time": "2024-08-11T21:55:50.066592Z",
     "start_time": "2024-08-11T21:52:31.192405Z"
    }
   },
   "cell_type": "code",
   "source": [
    "from sklearn.tree import DecisionTreeClassifier\n",
    "\n",
    "train_embeddings = tfidf_vectorizer.transform(train_sentences)\n",
    "regressor = DecisionTreeClassifier(random_state=42)\n",
    "flat_start_train_time = time.time()\n",
    "regressor.fit(train_embeddings, train_labels)\n",
    "flat_end_train_time = time.time()"
   ],
   "id": "8e5a65e7c6eb6a5a",
   "outputs": [],
   "execution_count": 11
  },
  {
   "metadata": {
    "ExecuteTime": {
     "end_time": "2024-08-11T21:55:50.307669Z",
     "start_time": "2024-08-11T21:55:50.069207Z"
    }
   },
   "cell_type": "code",
   "source": [
    "test_embeddings = tfidf_vectorizer.transform(test_sentences)\n",
    "flat_start_predict_time = time.time()\n",
    "regressor.predict(test_embeddings)\n",
    "flat_end_predict_time = time.time()"
   ],
   "id": "23c3c4317a2a2fd3",
   "outputs": [],
   "execution_count": 12
  },
  {
   "metadata": {},
   "cell_type": "markdown",
   "source": "# Время обучения и инференса",
   "id": "9d75c0b40346d0cd"
  },
  {
   "metadata": {
    "ExecuteTime": {
     "end_time": "2024-08-11T22:04:46.263904Z",
     "start_time": "2024-08-11T22:04:46.259855Z"
    }
   },
   "cell_type": "code",
   "source": [
    "print(f'Тренировка плоского классификатора: {flat_end_train_time - flat_start_train_time:.4f} c')\n",
    "print(f'Инференс плоского классификатора: {flat_end_predict_time - flat_start_predict_time:.4f} c')\n",
    "print(f'Тренировка иерархического классификатора: {topdown_end_train_time - topdown_start_train_time:.4f} c')\n",
    "print(f'Инференс иерархического классификатора: {topdown_end_predict_time - topdown_start_predict_time:.4f} c')"
   ],
   "id": "7ab525b1430c1047",
   "outputs": [
    {
     "name": "stdout",
     "output_type": "stream",
     "text": [
      "Тренировка плоского классификатора: 197.8788 c\n",
      "Инференс плоского классификатора: 0.0240 c\n",
      "Тренировка иерархического классификатора: 59.1053 c\n",
      "Инференс иерархического классификатора: 5.3128 c\n"
     ]
    }
   ],
   "execution_count": 16
  },
  {
   "metadata": {},
   "cell_type": "markdown",
   "source": [
    "Иерархический классификатор обучается значительно быстрее, но в инференсе он значительно медленнее из-за накладных расходов вычисления несколькими базовыми классификаторами.\n",
    "Скорее всего, иерархический классификатор быстро обучается из-за малого времени схождения алгоритма для малого количества классов, базовые классификаторы иерархии обучают не более чем десятки классов, когда плоский должен выучить за тысячу, и сходится он значительно медленнее"
   ],
   "id": "d320876c4c77c3a8"
  },
  {
   "metadata": {
    "ExecuteTime": {
     "end_time": "2024-08-11T22:10:17.319744Z",
     "start_time": "2024-08-11T22:10:17.266251Z"
    }
   },
   "cell_type": "code",
   "source": [
    "from sklearn.pipeline import Pipeline\n",
    "import pickle\n",
    "\n",
    "p = Pipeline([('tfidf_vectorizer', tfidf_vectorizer), ('classifier', top_down_clf)])\n",
    "\n",
    "with open(\"model_serving/app/models/model.pkl\", \"wb\") as f:\n",
    "    pickle.dump(p, f)"
   ],
   "id": "464ce6f18981fd82",
   "outputs": [],
   "execution_count": 22
  },
  {
   "metadata": {
    "ExecuteTime": {
     "end_time": "2024-08-11T22:14:31.035171Z",
     "start_time": "2024-08-11T22:14:31.026875Z"
    }
   },
   "cell_type": "code",
   "source": "type(p.predict(['хуй']))",
   "id": "a15e6ae87210e4ee",
   "outputs": [
    {
     "data": {
      "text/plain": [
       "numpy.ndarray"
      ]
     },
     "execution_count": 23,
     "metadata": {},
     "output_type": "execute_result"
    }
   ],
   "execution_count": 23
  },
  {
   "metadata": {},
   "cell_type": "code",
   "outputs": [],
   "execution_count": null,
   "source": "",
   "id": "4fbc10739219d189"
  }
 ],
 "metadata": {
  "kernelspec": {
   "display_name": "Python 3",
   "language": "python",
   "name": "python3"
  },
  "language_info": {
   "codemirror_mode": {
    "name": "ipython",
    "version": 2
   },
   "file_extension": ".py",
   "mimetype": "text/x-python",
   "name": "python",
   "nbconvert_exporter": "python",
   "pygments_lexer": "ipython2",
   "version": "2.7.6"
  }
 },
 "nbformat": 4,
 "nbformat_minor": 5
}
