{
 "cells": [
  {
   "metadata": {},
   "cell_type": "markdown",
   "source": [
    "# Подготовка данных\n",
    "\n",
    "Далее создается иерархия классов, проводится базовый анализ датасета"
   ],
   "id": "3a591cb2618555ea"
  },
  {
   "metadata": {
    "ExecuteTime": {
     "end_time": "2024-08-11T23:19:52.171443Z",
     "start_time": "2024-08-11T23:19:52.046343Z"
    }
   },
   "cell_type": "code",
   "source": "%load_ext scalene",
   "id": "c22083a1dc5de1c3",
   "outputs": [
    {
     "name": "stdout",
     "output_type": "stream",
     "text": [
      "LOADING\n",
      "Scalene extension successfully loaded. Note: Scalene currently only\n",
      "supports CPU+GPU profiling inside Jupyter notebooks. For full Scalene\n",
      "profiling, use the command line version. To profile in line mode, use\n",
      "`%scrun [options] statement`. To profile in cell mode, use `%%scalene\n",
      "[options]` followed by your code.\n"
     ]
    }
   ],
   "execution_count": 1
  },
  {
   "metadata": {
    "ExecuteTime": {
     "end_time": "2024-08-11T23:19:58.655861Z",
     "start_time": "2024-08-11T23:19:58.005145Z"
    }
   },
   "cell_type": "code",
   "source": [
    "import pandas as pd\n",
    "\n",
    "df = pd.read_csv(\"data/train_40k.csv\").dropna(how='any')\n",
    "\n",
    "# Define a list with sentences (1k - 100k sentences)\n",
    "train_sentences = df['Text'].tolist()\n",
    "labels = df[['Cat1', 'Cat2', 'Cat3']].to_numpy()\n",
    "labels"
   ],
   "id": "a571d11bd44721f6",
   "outputs": [
    {
     "data": {
      "text/plain": [
       "array([['grocery gourmet food', 'meat poultry', 'jerky'],\n",
       "       ['toys games', 'games', 'unknown'],\n",
       "       ['toys games', 'games', 'unknown'],\n",
       "       ...,\n",
       "       ['beauty', 'tools accessories', 'mirrors'],\n",
       "       ['beauty', 'skin care', 'body'],\n",
       "       ['beauty', 'fragrance', 'women s']], dtype=object)"
      ]
     },
     "execution_count": 2,
     "metadata": {},
     "output_type": "execute_result"
    }
   ],
   "execution_count": 2
  },
  {
   "metadata": {},
   "cell_type": "markdown",
   "source": "~~Балансировка классов предлагает молиться~~. Согласно отчёту, в датасете 0.7% дубликатов, все одного класса",
   "id": "a4be742f5e573ae5"
  },
  {
   "metadata": {},
   "cell_type": "markdown",
   "source": "### Создание иерархии",
   "id": "8029f2bfc0dfe5c2"
  },
  {
   "metadata": {
    "ExecuteTime": {
     "end_time": "2024-08-11T23:20:00.654135Z",
     "start_time": "2024-08-11T23:19:59.717611Z"
    }
   },
   "cell_type": "code",
   "source": [
    "def create_hierarchy(df):\n",
    "    hierarchy = {}\n",
    "\n",
    "    # Iterate through each row in the DataFrame\n",
    "    for index, row in df.iterrows():\n",
    "        current_level = hierarchy  # Start from the root of the hierarchy\n",
    "\n",
    "        # Build the path based on the values in the current row\n",
    "        for col in df.columns:\n",
    "            label = row[col]\n",
    "            if pd.notna(label):  # Check if the label is not NaN\n",
    "                # If the label doesn't exist in the current level, add it\n",
    "                if label not in current_level:\n",
    "                    current_level[label] = {}\n",
    "                # Move down to the next level in the hierarchy\n",
    "                current_level = current_level[label]\n",
    "\n",
    "    return hierarchy\n",
    "\n",
    "hierarchy = {'root': create_hierarchy(df[['Cat1', 'Cat2', 'Cat3']])}"
   ],
   "id": "935de6c01df290f4",
   "outputs": [],
   "execution_count": 3
  },
  {
   "metadata": {},
   "cell_type": "markdown",
   "source": [
    " Обучение TF-IDF и иерархического классификатора\n",
    "Помимо TF-IDF на unlabeled текстах был дообучен DistilRoberta, но точность на эмбеддингах Bert и на TF-IDF не отличается"
   ],
   "id": "52fe3633d51dd480"
  },
  {
   "metadata": {
    "ExecuteTime": {
     "end_time": "2024-08-11T23:20:01.281516Z",
     "start_time": "2024-08-11T23:20:00.655584Z"
    }
   },
   "cell_type": "code",
   "source": [
    "pretrain_texts = pd.read_csv(\"data/unlabeled_150k.csv\").dropna(how='any')['Text'].tolist()\n",
    "tfidf_text = pretrain_texts + train_sentences"
   ],
   "id": "fac0c8ef25bfd3fd",
   "outputs": [],
   "execution_count": 4
  },
  {
   "metadata": {
    "ExecuteTime": {
     "end_time": "2024-08-11T23:20:07.681531Z",
     "start_time": "2024-08-11T23:20:01.283595Z"
    }
   },
   "cell_type": "code",
   "source": [
    "from sklearn.feature_extraction.text import TfidfVectorizer\n",
    "import time\n",
    "\n",
    "tfidf_vectorizer = TfidfVectorizer()\n",
    "tfidf_vectorizer.fit(tfidf_text)\n",
    "embeddings = tfidf_vectorizer.transform(train_sentences)"
   ],
   "id": "5c55ae13954a604b",
   "outputs": [],
   "execution_count": 5
  },
  {
   "metadata": {
    "ExecuteTime": {
     "end_time": "2024-08-11T23:22:26.980306Z",
     "start_time": "2024-08-11T23:21:28.516559Z"
    }
   },
   "cell_type": "code",
   "source": [
    "from model_serving.app.services.lib.classifiers import TopDownClassifier\n",
    "from sklearn.tree import DecisionTreeClassifier\n",
    "\n",
    "base_classifier = DecisionTreeClassifier\n",
    "top_down_clf = TopDownClassifier(base_classifier, hierarchy)\n",
    "topdown_start_train_time = time.time()\n",
    "top_down_clf.fit(embeddings, labels)\n",
    "topdown_end_train_time = time.time()"
   ],
   "id": "67908cdfb206693b",
   "outputs": [],
   "execution_count": 7
  },
  {
   "metadata": {
    "ExecuteTime": {
     "end_time": "2024-08-11T23:22:27.036368Z",
     "start_time": "2024-08-11T23:22:26.982145Z"
    }
   },
   "cell_type": "code",
   "source": [
    "df = pd.read_csv(\"data/val_10k.csv\").dropna(how='any')\n",
    "\n",
    "test_sentences = df['Text'].tolist()\n",
    "test_labels = df[['Cat1', 'Cat2', 'Cat3']].to_numpy()"
   ],
   "id": "f6360da223126319",
   "outputs": [],
   "execution_count": 8
  },
  {
   "metadata": {
    "ExecuteTime": {
     "end_time": "2024-08-11T23:22:27.252798Z",
     "start_time": "2024-08-11T23:22:27.037580Z"
    }
   },
   "cell_type": "code",
   "source": "test_embeddings = tfidf_vectorizer.transform(test_sentences)",
   "id": "1b82cdca0fdea22a",
   "outputs": [],
   "execution_count": 9
  },
  {
   "metadata": {
    "ExecuteTime": {
     "end_time": "2024-08-11T23:22:29.580415Z",
     "start_time": "2024-08-11T23:22:29.577287Z"
    }
   },
   "cell_type": "code",
   "source": [
    "def predict(embeddings):\n",
    "    top_down_clf.predict(test_embeddings)"
   ],
   "id": "ede79a4c8f8d2de8",
   "outputs": [],
   "execution_count": 10
  },
  {
   "metadata": {
    "ExecuteTime": {
     "end_time": "2024-08-11T23:24:15.634809Z",
     "start_time": "2024-08-11T23:24:07.719777Z"
    }
   },
   "cell_type": "code",
   "source": "%scrun predict(test_embeddings)",
   "id": "7b733bc86721efbc",
   "outputs": [
    {
     "name": "stdout",
     "output_type": "stream",
     "text": [
      "SCRUN MAGIC\n"
     ]
    },
    {
     "data": {
      "text/plain": [
       "<IPython.lib.display.IFrame at 0x7f0434a93590>"
      ],
      "text/html": [
       "\n",
       "        <iframe\n",
       "            width=\"100%\"\n",
       "            height=\"400\"\n",
       "            src=\"http://localhost:8183\"\n",
       "            frameborder=\"0\"\n",
       "            allowfullscreen\n",
       "            \n",
       "        ></iframe>\n",
       "        "
      ]
     },
     "metadata": {},
     "output_type": "display_data"
    }
   ],
   "execution_count": 13
  },
  {
   "metadata": {},
   "cell_type": "code",
   "outputs": [],
   "execution_count": null,
   "source": "",
   "id": "1267ca4ce924bd41"
  }
 ],
 "metadata": {
  "kernelspec": {
   "display_name": "Python 3",
   "language": "python",
   "name": "python3"
  },
  "language_info": {
   "codemirror_mode": {
    "name": "ipython",
    "version": 2
   },
   "file_extension": ".py",
   "mimetype": "text/x-python",
   "name": "python",
   "nbconvert_exporter": "python",
   "pygments_lexer": "ipython2",
   "version": "2.7.6"
  }
 },
 "nbformat": 4,
 "nbformat_minor": 5
}
